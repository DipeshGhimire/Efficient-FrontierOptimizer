{
  "nbformat": 4,
  "nbformat_minor": 0,
  "metadata": {
    "colab": {
      "provenance": []
    },
    "kernelspec": {
      "name": "python3",
      "display_name": "Python 3"
    },
    "language_info": {
      "name": "python"
    }
  },
  "cells": [
    {
      "cell_type": "code",
      "execution_count": null,
      "metadata": {
        "id": "k0OEPpeDZqGv"
      },
      "outputs": [],
      "source": [
        "import numpy as np\n",
        "import pandas as pd\n",
        "from scipy.optimize import minimize\n",
        "import yfinance as yf\n",
        "import datetime as dt"
      ]
    },
    {
      "cell_type": "code",
      "source": [
        "ticker = ['SPY', 'TLT', 'META', 'NVDA', 'GLD', 'SNAP']\n",
        "endDate = dt.datetime.now()\n",
        "startDate = endDate - dt.timedelta(days = 252)\n",
        "interval = '1d'"
      ],
      "metadata": {
        "id": "wuHM9PMPbTKd"
      },
      "execution_count": null,
      "outputs": []
    },
    {
      "cell_type": "code",
      "source": [
        "def getData(startDate, endDate, interval, ticker):\n",
        "  tickerData = yf.download(ticker, startDate, endDate, interval=interval)\n",
        "  tickerData = tickerData['Adj Close']\n",
        "  tickerData = tickerData.pct_change().dropna()\n",
        "  return tickerData"
      ],
      "metadata": {
        "id": "yFRz0eyXai8C"
      },
      "execution_count": null,
      "outputs": []
    },
    {
      "cell_type": "code",
      "source": [
        "pctData = getData(startDate, endDate, interval, ticker)\n",
        "meanReturns = pctData.mean()\n",
        "covMatrix = pctData.cov()"
      ],
      "metadata": {
        "id": "khve7a4FbDut",
        "colab": {
          "base_uri": "https://localhost:8080/"
        },
        "outputId": "3bf571c9-5267-4e67-ac7a-4d1e4571c068"
      },
      "execution_count": null,
      "outputs": [
        {
          "output_type": "stream",
          "name": "stdout",
          "text": [
            "[*********************100%%**********************]  6 of 6 completed\n"
          ]
        }
      ]
    },
    {
      "cell_type": "code",
      "source": [
        "def portfolioPerformance(weights ,meanReturns, covMatrix):\n",
        "  returns = np.sum(meanReturns*weights)*252\n",
        "  std = np.sqrt(np.dot(weights.T, np.dot(covMatrix, weights))) * np.sqrt(252)\n",
        "  return returns, std"
      ],
      "metadata": {
        "id": "Fy8waAQT6CiQ"
      },
      "execution_count": null,
      "outputs": []
    },
    {
      "cell_type": "code",
      "source": [
        "def negativeSharpe(weights ,meanReturns, covMatrix):\n",
        "  returns = np.sum(meanReturns*weights)*252\n",
        "  std = np.sqrt(np.dot(weights.T, np.dot(covMatrix, weights))) * np.sqrt(252)\n",
        "  return -(returns/std)"
      ],
      "metadata": {
        "id": "WKJRjB3_keuu"
      },
      "execution_count": null,
      "outputs": []
    },
    {
      "cell_type": "code",
      "source": [
        "def portfolioVariance(weights, meanReturns, covMatrix):\n",
        "  std = np.sqrt(np.dot(weights.T, np.dot(covMatrix, weights))) * np.sqrt(252)\n",
        "  return std"
      ],
      "metadata": {
        "id": "3Z5DgsCU53mI"
      },
      "execution_count": null,
      "outputs": []
    },
    {
      "cell_type": "code",
      "source": [
        "numAseets = len(meanReturns)\n",
        "bnds = []\n",
        "b = (0.0, 1.0)\n",
        "for i in range(numAseets):\n",
        "  bnds.append(b)"
      ],
      "metadata": {
        "id": "e1mFf0uU5rq8"
      },
      "execution_count": null,
      "outputs": []
    },
    {
      "cell_type": "code",
      "source": [
        "con1 = {'type':'eq', 'fun': lambda x: np.sum(x)-1}\n",
        "cons = [con1]\n",
        "x0 = [1./numAseets]*numAseets\n",
        "args = (meanReturns, covMatrix)"
      ],
      "metadata": {
        "id": "kPoATwd_7SMW"
      },
      "execution_count": null,
      "outputs": []
    },
    {
      "cell_type": "code",
      "source": [
        "sol = minimize(negativeSharpe, x0, args, 'SLSQP', constraints=cons, bounds = bnds)"
      ],
      "metadata": {
        "id": "YBD4oR1T3Bw1"
      },
      "execution_count": null,
      "outputs": []
    },
    {
      "cell_type": "code",
      "source": [
        "sol.x.round(2), sol.fun.round(2)"
      ],
      "metadata": {
        "id": "gnjD7cYv7czA",
        "colab": {
          "base_uri": "https://localhost:8080/"
        },
        "outputId": "83b91989-64f4-420e-bf01-d27390ef7a87"
      },
      "execution_count": null,
      "outputs": [
        {
          "output_type": "execute_result",
          "data": {
            "text/plain": [
              "(array([0.38, 0.32, 0.3 , 0.  , 0.  , 0.  ]), -4.15)"
            ]
          },
          "metadata": {},
          "execution_count": 12
        }
      ]
    },
    {
      "cell_type": "code",
      "source": [
        "for i in [i for i,v in enumerate(sol.x.round(2)) if v>0]:\n",
        "  print(meanReturns.index[i])"
      ],
      "metadata": {
        "id": "T8mo3t2y9DL5",
        "colab": {
          "base_uri": "https://localhost:8080/"
        },
        "outputId": "6ed67a54-c34a-4f4b-ae61-ada80720e979"
      },
      "execution_count": null,
      "outputs": [
        {
          "output_type": "stream",
          "name": "stdout",
          "text": [
            "GLD\n",
            "META\n",
            "NVDA\n"
          ]
        }
      ]
    },
    {
      "cell_type": "code",
      "source": [
        "portfolioPerformance(sol.x.round(2), meanReturns, covMatrix)"
      ],
      "metadata": {
        "id": "ZozvnfKV5tNx",
        "colab": {
          "base_uri": "https://localhost:8080/"
        },
        "outputId": "e9195572-782c-4ad4-8d61-a0e08b22dd78"
      },
      "execution_count": null,
      "outputs": [
        {
          "output_type": "execute_result",
          "data": {
            "text/plain": [
              "(1.0532313455962703, 0.2535340443297576)"
            ]
          },
          "metadata": {},
          "execution_count": 14
        }
      ]
    },
    {
      "cell_type": "code",
      "source": [
        "sol2 = minimize(portfolioVariance, x0, args,'SLSQP', constraints= cons, bounds=bnds)"
      ],
      "metadata": {
        "id": "RDCdG6Rflgek"
      },
      "execution_count": null,
      "outputs": []
    },
    {
      "cell_type": "code",
      "source": [
        "sol2.x.round(2), sol2.fun.round(4)"
      ],
      "metadata": {
        "id": "RfV2MZAC6FJu",
        "colab": {
          "base_uri": "https://localhost:8080/"
        },
        "outputId": "19abb16d-3423-47ba-c5d8-e6583568dfc0"
      },
      "execution_count": null,
      "outputs": [
        {
          "output_type": "execute_result",
          "data": {
            "text/plain": [
              "(array([0.4 , 0.  , 0.  , 0.  , 0.47, 0.13]), 0.0917)"
            ]
          },
          "metadata": {},
          "execution_count": 16
        }
      ]
    },
    {
      "cell_type": "code",
      "source": [
        "portfolioPerformance(sol2.x.round(2), meanReturns, covMatrix)"
      ],
      "metadata": {
        "id": "NeWXiG5D6FyX",
        "colab": {
          "base_uri": "https://localhost:8080/"
        },
        "outputId": "f2463b9e-1062-459f-fbf8-985981d62f47"
      },
      "execution_count": null,
      "outputs": [
        {
          "output_type": "execute_result",
          "data": {
            "text/plain": [
              "(0.1409110340420771, 0.0916988932211165)"
            ]
          },
          "metadata": {},
          "execution_count": 17
        }
      ]
    },
    {
      "cell_type": "code",
      "source": [
        "con2 = {'type': 'eq', 'fun': lambda x: portfolioPerformance(x, meanReturns, covMatrix )[0] - 0.30}\n",
        "cons1 = [con1, con2]"
      ],
      "metadata": {
        "id": "AdUrkDBBEW32"
      },
      "execution_count": null,
      "outputs": []
    },
    {
      "cell_type": "code",
      "source": [
        "sol3 = minimize(portfolioVariance, x0, args, 'SLSQP', constraints=cons1, bounds=bnds)"
      ],
      "metadata": {
        "id": "muhi7lcH8xQR"
      },
      "execution_count": null,
      "outputs": []
    },
    {
      "cell_type": "code",
      "source": [
        "portfolioPerformance(sol3.x, meanReturns, covMatrix)"
      ],
      "metadata": {
        "id": "xsT7PoDRFWIQ"
      },
      "execution_count": null,
      "outputs": []
    }
  ]
}